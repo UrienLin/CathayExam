{
  "nbformat": 4,
  "nbformat_minor": 0,
  "metadata": {
    "colab": {
      "name": "Q1_Filter_a.ipynb",
      "provenance": [],
      "collapsed_sections": [],
      "mount_file_id": "1vdV5iVejSxCpi4lhM-wxyv2xKZaD5bth",
      "authorship_tag": "ABX9TyOMwGk1/DzzeJG6J9xiy/Yv",
      "include_colab_link": true
    },
    "kernelspec": {
      "name": "python3",
      "display_name": "Python 3"
    }
  },
  "cells": [
    {
      "cell_type": "markdown",
      "metadata": {
        "id": "view-in-github",
        "colab_type": "text"
      },
      "source": [
        "<a href=\"https://colab.research.google.com/github/UrienLin/CathayExam/blob/master/Q1_Filter_a.ipynb\" target=\"_parent\"><img src=\"https://colab.research.google.com/assets/colab-badge.svg\" alt=\"Open In Colab\"/></a>"
      ]
    },
    {
      "cell_type": "code",
      "metadata": {
        "id": "4q_xdCrTdEur",
        "colab_type": "code",
        "colab": {}
      },
      "source": [
        "import pandas as pd"
      ],
      "execution_count": 0,
      "outputs": []
    },
    {
      "cell_type": "code",
      "metadata": {
        "id": "eYoCGosWd8-d",
        "colab_type": "code",
        "colab": {}
      },
      "source": [
        "#path = '/content/drive/My Drive/download/'\n",
        "path = './'\n",
        "df_a = pd.read_csv(path + 'a_lvr_land_a.csv')[1:]\n",
        "df_b = pd.read_csv(path + 'b_lvr_land_a.csv')[1:]\n",
        "df_e = pd.read_csv(path + 'e_lvr_land_a.csv')[1:]\n",
        "df_f = pd.read_csv(path + 'f_lvr_land_a.csv')[1:]\n",
        "df_h = pd.read_csv(path + 'h_lvr_land_a.csv')[1:]\n",
        "list_df = [df_a, df_b, df_e, df_f, df_h]\n",
        "df_all = pd.concat(list_df).reset_index(drop=True)"
      ],
      "execution_count": 0,
      "outputs": []
    },
    {
      "cell_type": "markdown",
      "metadata": {
        "id": "BNDuledfwAYH",
        "colab_type": "text"
      },
      "source": [
        ""
      ]
    },
    {
      "cell_type": "code",
      "metadata": {
        "id": "ozI6C3Iph1nP",
        "colab_type": "code",
        "outputId": "426b88cc-c0df-4359-e7d9-db7a44df0a18",
        "colab": {
          "base_uri": "https://localhost:8080/",
          "height": 238
        }
      },
      "source": [
        "df_all['主要用途'].value_counts()"
      ],
      "execution_count": 0,
      "outputs": [
        {
          "output_type": "execute_result",
          "data": {
            "text/plain": [
              "住家用        2094\n",
              "見其他登記事項    1420\n",
              "住商用         124\n",
              "見其它登記事項     124\n",
              "商業用         106\n",
              "工業用          26\n",
              "見使用執照        21\n",
              "停車空間         11\n",
              "農舍            8\n",
              "工商用           6\n",
              "住工用           4\n",
              "市場攤位          1\n",
              "Name: 主要用途, dtype: int64"
            ]
          },
          "metadata": {
            "tags": []
          },
          "execution_count": 3
        }
      ]
    },
    {
      "cell_type": "code",
      "metadata": {
        "id": "bj0maReDlGxl",
        "colab_type": "code",
        "outputId": "cd7581a0-7982-45b1-eb38-eed3bf5a0e97",
        "colab": {
          "base_uri": "https://localhost:8080/",
          "height": 578
        }
      },
      "source": [
        "df_all['總樓層數'] = df_all['總樓層數'].fillna(0)\n",
        "filter_pos = (df_all['總樓層數'].str.contains('十',na=False))\n",
        "filter_neg = (df_all['總樓層數'].str.contains('^十$|^十一|^十二',na=False))\n",
        "df_all[filter_pos & ~filter_neg]['總樓層數'].value_counts()"
      ],
      "execution_count": 0,
      "outputs": [
        {
          "output_type": "execute_result",
          "data": {
            "text/plain": [
              "十五層     582\n",
              "十四層     299\n",
              "十三層     146\n",
              "十層      140\n",
              "十九層      93\n",
              "十六層      75\n",
              "十七層      65\n",
              "二十三層     60\n",
              "二十四層     58\n",
              "二十九層     50\n",
              "二十層      46\n",
              "十八層      39\n",
              "二十二層     38\n",
              "二十一層     35\n",
              "二十八層     35\n",
              "二十五層     30\n",
              "二十七層     26\n",
              "二十六層     20\n",
              "三十二層     14\n",
              "三十層      13\n",
              "三十六層      6\n",
              "四十二層      4\n",
              "三十五層      4\n",
              "三十三層      4\n",
              "四十一層      3\n",
              "四十層       2\n",
              "三十七層      2\n",
              "三十九層      2\n",
              "三十一層      2\n",
              "三十八層      1\n",
              "八十五層      1\n",
              "三十四層      1\n",
              "Name: 總樓層數, dtype: int64"
            ]
          },
          "metadata": {
            "tags": []
          },
          "execution_count": 4
        }
      ]
    },
    {
      "cell_type": "code",
      "metadata": {
        "id": "aNY3KvLsh1dj",
        "colab_type": "code",
        "colab": {}
      },
      "source": [
        "filter_a = (df_all['主要用途'] == '住家用') & \\\n",
        "           (df_all['建物型態'].str.contains('住宅大樓'))&\\\n",
        "           (filter_pos) & \\\n",
        "           (~filter_neg)"
      ],
      "execution_count": 0,
      "outputs": []
    },
    {
      "cell_type": "markdown",
      "metadata": {
        "id": "-vn336v4gJuq",
        "colab_type": "text"
      },
      "source": [
        ""
      ]
    },
    {
      "cell_type": "code",
      "metadata": {
        "id": "YwynoXHmiCeX",
        "colab_type": "code",
        "colab": {}
      },
      "source": [
        "df_all[filter_a].to_csv('filter_a.csv', encoding='utf-8', index=False)"
      ],
      "execution_count": 0,
      "outputs": []
    },
    {
      "cell_type": "code",
      "metadata": {
        "id": "wkKq-kZgiA25",
        "colab_type": "code",
        "colab": {}
      },
      "source": [
        ""
      ],
      "execution_count": 0,
      "outputs": []
    },
    {
      "cell_type": "code",
      "metadata": {
        "id": "WijnHjfAgjYZ",
        "colab_type": "code",
        "colab": {}
      },
      "source": [
        ""
      ],
      "execution_count": 0,
      "outputs": []
    }
  ]
}
