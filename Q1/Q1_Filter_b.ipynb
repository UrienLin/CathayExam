{
  "nbformat": 4,
  "nbformat_minor": 0,
  "metadata": {
    "colab": {
      "name": "Q1_Filter_b.ipynb",
      "provenance": [],
      "collapsed_sections": [],
      "mount_file_id": "1nwiJz2nosy24vWaBLIdpQ0cFRH2CrFn2",
      "authorship_tag": "ABX9TyPLdbw9RLMJ89wZPivmbnzB",
      "include_colab_link": true
    },
    "kernelspec": {
      "name": "python3",
      "display_name": "Python 3"
    }
  },
  "cells": [
    {
      "cell_type": "markdown",
      "metadata": {
        "id": "view-in-github",
        "colab_type": "text"
      },
      "source": [
        "<a href=\"https://colab.research.google.com/github/UrienLin/CathayExam/blob/master/Q1_Filter_b.ipynb\" target=\"_parent\"><img src=\"https://colab.research.google.com/assets/colab-badge.svg\" alt=\"Open In Colab\"/></a>"
      ]
    },
    {
      "cell_type": "markdown",
      "metadata": {
        "id": "vJO2BuxDeG28",
        "colab_type": "text"
      },
      "source": [
        "# 刪除每一個檔案的header 才做合併\n",
        "# 合併後 重新定義 index"
      ]
    },
    {
      "cell_type": "code",
      "metadata": {
        "id": "XomgchTdv2VS",
        "colab_type": "code",
        "colab": {}
      },
      "source": [
        "import pandas as pd\n",
        "#path = '/content/drive/My Drive/download/'\n",
        "path = './'\n",
        "df_a = pd.read_csv(path + 'a_lvr_land_a.csv')[1:]\n",
        "df_b = pd.read_csv(path + 'b_lvr_land_a.csv')[1:]\n",
        "df_e = pd.read_csv(path + 'e_lvr_land_a.csv')[1:]\n",
        "df_f = pd.read_csv(path + 'f_lvr_land_a.csv')[1:]\n",
        "df_h = pd.read_csv(path + 'h_lvr_land_a.csv')[1:]\n",
        "list_df = [df_a, df_b, df_e, df_f, df_h]\n",
        "df_all = pd.concat(list_df).reset_index(drop=True)"
      ],
      "execution_count": 0,
      "outputs": []
    },
    {
      "cell_type": "markdown",
      "metadata": {
        "id": "NWT9OPCaeWEP",
        "colab_type": "text"
      },
      "source": [
        "# 列出所有欄位"
      ]
    },
    {
      "cell_type": "code",
      "metadata": {
        "id": "0FrZT-xIwENL",
        "colab_type": "code",
        "outputId": "e928c4f8-34b8-40e4-cf39-7f4495d4d019",
        "colab": {
          "base_uri": "https://localhost:8080/",
          "height": 493
        }
      },
      "source": [
        "list(df_all.columns)"
      ],
      "execution_count": 0,
      "outputs": [
        {
          "output_type": "execute_result",
          "data": {
            "text/plain": [
              "['鄉鎮市區',\n",
              " '交易標的',\n",
              " '土地區段位置建物區段門牌',\n",
              " '土地移轉總面積平方公尺',\n",
              " '都市土地使用分區',\n",
              " '非都市土地使用分區',\n",
              " '非都市土地使用編定',\n",
              " '交易年月日',\n",
              " '交易筆棟數',\n",
              " '移轉層次',\n",
              " '總樓層數',\n",
              " '建物型態',\n",
              " '主要用途',\n",
              " '主要建材',\n",
              " '建築完成年月',\n",
              " '建物移轉總面積平方公尺',\n",
              " '建物現況格局-房',\n",
              " '建物現況格局-廳',\n",
              " '建物現況格局-衛',\n",
              " '建物現況格局-隔間',\n",
              " '有無管理組織',\n",
              " '總價元',\n",
              " '單價元平方公尺',\n",
              " '車位類別',\n",
              " '車位移轉總面積平方公尺',\n",
              " '車位總價元',\n",
              " '備註',\n",
              " '編號']"
            ]
          },
          "metadata": {
            "tags": []
          },
          "execution_count": 2
        }
      ]
    },
    {
      "cell_type": "markdown",
      "metadata": {
        "id": "fmrifediNULo",
        "colab_type": "text"
      },
      "source": [
        "#確認 [交易筆棟數] ，格式為 '土地int建物int車位int'\n",
        "#共同項目為 土地、建物、車位 ，故以其作為切點"
      ]
    },
    {
      "cell_type": "code",
      "metadata": {
        "id": "UmUubwo7I-Lb",
        "colab_type": "code",
        "outputId": "b5b27a42-2278-4345-cc6d-f56db866724a",
        "colab": {
          "base_uri": "https://localhost:8080/",
          "height": 256
        }
      },
      "source": [
        "def split_park(str_input):\n",
        "  sub_str_list = str_input.split('土地')[1].split('建物')\n",
        "  land = int(sub_str_list[0])\n",
        "  buildings = int(sub_str_list[1].split('車位')[0])\n",
        "  park = int(sub_str_list[1].split('車位')[1])\n",
        "  return [land,buildings,park]\n",
        "\n",
        "\n",
        "df_all['LBP'] = df_all['交易筆棟數'].apply(split_park)\n",
        "_df = pd.DataFrame(list(df_all.LBP))\n",
        "_df.columns = ['土地', '建物', '車位']\n",
        "df_all = df_all.join(_df)\n",
        "#確認一下沒有都為0的資料\n",
        "df_all[(df_all['土地'] == 0) & (df_all['建物'] == 0) & (df_all['車位'] == 0)]"
      ],
      "execution_count": 0,
      "outputs": [
        {
          "output_type": "execute_result",
          "data": {
            "text/html": [
              "<div>\n",
              "<style scoped>\n",
              "    .dataframe tbody tr th:only-of-type {\n",
              "        vertical-align: middle;\n",
              "    }\n",
              "\n",
              "    .dataframe tbody tr th {\n",
              "        vertical-align: top;\n",
              "    }\n",
              "\n",
              "    .dataframe thead th {\n",
              "        text-align: right;\n",
              "    }\n",
              "</style>\n",
              "<table border=\"1\" class=\"dataframe\">\n",
              "  <thead>\n",
              "    <tr style=\"text-align: right;\">\n",
              "      <th></th>\n",
              "      <th>鄉鎮市區</th>\n",
              "      <th>交易標的</th>\n",
              "      <th>土地區段位置建物區段門牌</th>\n",
              "      <th>土地移轉總面積平方公尺</th>\n",
              "      <th>都市土地使用分區</th>\n",
              "      <th>非都市土地使用分區</th>\n",
              "      <th>非都市土地使用編定</th>\n",
              "      <th>交易年月日</th>\n",
              "      <th>交易筆棟數</th>\n",
              "      <th>移轉層次</th>\n",
              "      <th>總樓層數</th>\n",
              "      <th>建物型態</th>\n",
              "      <th>主要用途</th>\n",
              "      <th>主要建材</th>\n",
              "      <th>建築完成年月</th>\n",
              "      <th>建物移轉總面積平方公尺</th>\n",
              "      <th>建物現況格局-房</th>\n",
              "      <th>建物現況格局-廳</th>\n",
              "      <th>建物現況格局-衛</th>\n",
              "      <th>建物現況格局-隔間</th>\n",
              "      <th>有無管理組織</th>\n",
              "      <th>總價元</th>\n",
              "      <th>單價元平方公尺</th>\n",
              "      <th>車位類別</th>\n",
              "      <th>車位移轉總面積平方公尺</th>\n",
              "      <th>車位總價元</th>\n",
              "      <th>備註</th>\n",
              "      <th>編號</th>\n",
              "      <th>LBP</th>\n",
              "      <th>土地</th>\n",
              "      <th>建物</th>\n",
              "      <th>車位</th>\n",
              "    </tr>\n",
              "  </thead>\n",
              "  <tbody>\n",
              "  </tbody>\n",
              "</table>\n",
              "</div>"
            ],
            "text/plain": [
              "Empty DataFrame\n",
              "Columns: [鄉鎮市區, 交易標的, 土地區段位置建物區段門牌, 土地移轉總面積平方公尺, 都市土地使用分區, 非都市土地使用分區, 非都市土地使用編定, 交易年月日, 交易筆棟數, 移轉層次, 總樓層數, 建物型態, 主要用途, 主要建材, 建築完成年月, 建物移轉總面積平方公尺, 建物現況格局-房, 建物現況格局-廳, 建物現況格局-衛, 建物現況格局-隔間, 有無管理組織, 總價元, 單價元平方公尺, 車位類別, 車位移轉總面積平方公尺, 車位總價元, 備註, 編號, LBP, 土地, 建物, 車位]\n",
              "Index: []"
            ]
          },
          "metadata": {
            "tags": []
          },
          "execution_count": 3
        }
      ]
    },
    {
      "cell_type": "code",
      "metadata": {
        "id": "STzhc94Gwgrk",
        "colab_type": "code",
        "outputId": "acf0dadd-33ee-4ee1-937d-084f3f00f1f2",
        "colab": {
          "base_uri": "https://localhost:8080/",
          "height": 359
        }
      },
      "source": [
        "#抽樣確認<交易標的>與<交易筆棟數>資料意義相同\n",
        "df_all[['交易標的','土地','建物','車位']].sample(10)"
      ],
      "execution_count": 0,
      "outputs": [
        {
          "output_type": "execute_result",
          "data": {
            "text/html": [
              "<div>\n",
              "<style scoped>\n",
              "    .dataframe tbody tr th:only-of-type {\n",
              "        vertical-align: middle;\n",
              "    }\n",
              "\n",
              "    .dataframe tbody tr th {\n",
              "        vertical-align: top;\n",
              "    }\n",
              "\n",
              "    .dataframe thead th {\n",
              "        text-align: right;\n",
              "    }\n",
              "</style>\n",
              "<table border=\"1\" class=\"dataframe\">\n",
              "  <thead>\n",
              "    <tr style=\"text-align: right;\">\n",
              "      <th></th>\n",
              "      <th>交易標的</th>\n",
              "      <th>土地</th>\n",
              "      <th>建物</th>\n",
              "      <th>車位</th>\n",
              "    </tr>\n",
              "  </thead>\n",
              "  <tbody>\n",
              "    <tr>\n",
              "      <th>3537</th>\n",
              "      <td>房地(土地+建物)+車位</td>\n",
              "      <td>1</td>\n",
              "      <td>1</td>\n",
              "      <td>1</td>\n",
              "    </tr>\n",
              "    <tr>\n",
              "      <th>3</th>\n",
              "      <td>房地(土地+建物)+車位</td>\n",
              "      <td>1</td>\n",
              "      <td>1</td>\n",
              "      <td>1</td>\n",
              "    </tr>\n",
              "    <tr>\n",
              "      <th>527</th>\n",
              "      <td>房地(土地+建物)+車位</td>\n",
              "      <td>1</td>\n",
              "      <td>1</td>\n",
              "      <td>1</td>\n",
              "    </tr>\n",
              "    <tr>\n",
              "      <th>1912</th>\n",
              "      <td>土地</td>\n",
              "      <td>1</td>\n",
              "      <td>0</td>\n",
              "      <td>0</td>\n",
              "    </tr>\n",
              "    <tr>\n",
              "      <th>3410</th>\n",
              "      <td>房地(土地+建物)</td>\n",
              "      <td>2</td>\n",
              "      <td>1</td>\n",
              "      <td>0</td>\n",
              "    </tr>\n",
              "    <tr>\n",
              "      <th>1575</th>\n",
              "      <td>房地(土地+建物)</td>\n",
              "      <td>1</td>\n",
              "      <td>1</td>\n",
              "      <td>0</td>\n",
              "    </tr>\n",
              "    <tr>\n",
              "      <th>33</th>\n",
              "      <td>房地(土地+建物)+車位</td>\n",
              "      <td>1</td>\n",
              "      <td>2</td>\n",
              "      <td>1</td>\n",
              "    </tr>\n",
              "    <tr>\n",
              "      <th>536</th>\n",
              "      <td>土地</td>\n",
              "      <td>1</td>\n",
              "      <td>0</td>\n",
              "      <td>0</td>\n",
              "    </tr>\n",
              "    <tr>\n",
              "      <th>4546</th>\n",
              "      <td>房地(土地+建物)</td>\n",
              "      <td>5</td>\n",
              "      <td>1</td>\n",
              "      <td>0</td>\n",
              "    </tr>\n",
              "    <tr>\n",
              "      <th>2099</th>\n",
              "      <td>房地(土地+建物)</td>\n",
              "      <td>1</td>\n",
              "      <td>1</td>\n",
              "      <td>0</td>\n",
              "    </tr>\n",
              "  </tbody>\n",
              "</table>\n",
              "</div>"
            ],
            "text/plain": [
              "              交易標的  土地  建物  車位\n",
              "3537  房地(土地+建物)+車位   1   1   1\n",
              "3     房地(土地+建物)+車位   1   1   1\n",
              "527   房地(土地+建物)+車位   1   1   1\n",
              "1912            土地   1   0   0\n",
              "3410     房地(土地+建物)   2   1   0\n",
              "1575     房地(土地+建物)   1   1   0\n",
              "33    房地(土地+建物)+車位   1   2   1\n",
              "536             土地   1   0   0\n",
              "4546     房地(土地+建物)   5   1   0\n",
              "2099     房地(土地+建物)   1   1   0"
            ]
          },
          "metadata": {
            "tags": []
          },
          "execution_count": 4
        }
      ]
    },
    {
      "cell_type": "markdown",
      "metadata": {
        "id": "uvCdCJysfCha",
        "colab_type": "text"
      },
      "source": [
        "檢查缺漏值欄位"
      ]
    },
    {
      "cell_type": "code",
      "metadata": {
        "id": "pe5oBOuiwtpv",
        "colab_type": "code",
        "outputId": "dbc7f74f-a8c1-4bca-8b5a-0181720f944c",
        "colab": {
          "base_uri": "https://localhost:8080/",
          "height": 578
        }
      },
      "source": [
        "df_all.count()"
      ],
      "execution_count": 0,
      "outputs": [
        {
          "output_type": "execute_result",
          "data": {
            "text/plain": [
              "鄉鎮市區            5173\n",
              "交易標的            5173\n",
              "土地區段位置建物區段門牌    5173\n",
              "土地移轉總面積平方公尺     5173\n",
              "都市土地使用分區        4474\n",
              "非都市土地使用分區        556\n",
              "非都市土地使用編定        556\n",
              "交易年月日           5173\n",
              "交易筆棟數           5173\n",
              "移轉層次            4088\n",
              "總樓層數            4087\n",
              "建物型態            5173\n",
              "主要用途            3945\n",
              "主要建材            4087\n",
              "建築完成年月          3992\n",
              "建物移轉總面積平方公尺     5173\n",
              "建物現況格局-房        5173\n",
              "建物現況格局-廳        5173\n",
              "建物現況格局-衛        5173\n",
              "建物現況格局-隔間       5173\n",
              "有無管理組織          5173\n",
              "總價元             5173\n",
              "單價元平方公尺         5040\n",
              "車位類別            2021\n",
              "車位移轉總面積平方公尺     5173\n",
              "車位總價元           5173\n",
              "備註              1812\n",
              "編號              5173\n",
              "LBP             5173\n",
              "土地              5173\n",
              "建物              5173\n",
              "車位              5173\n",
              "dtype: int64"
            ]
          },
          "metadata": {
            "tags": []
          },
          "execution_count": 5
        }
      ]
    },
    {
      "cell_type": "markdown",
      "metadata": {
        "id": "-hQjW6RehGfm",
        "colab_type": "text"
      },
      "source": [
        "檢查交易金額分布(X:金額百萬, Y:交易件數)"
      ]
    },
    {
      "cell_type": "code",
      "metadata": {
        "id": "E3FCEpuGfOYw",
        "colab_type": "code",
        "outputId": "bb6419d5-e3cc-48ae-99ea-e9675f1b7b50",
        "colab": {
          "base_uri": "https://localhost:8080/",
          "height": 282
        }
      },
      "source": [
        "df_all['總價元'] = df_all['總價元'].astype(int)\n",
        "(df_all['總價元']/1000000).round().value_counts().sort_index(ascending=True)[:100].plot()"
      ],
      "execution_count": 0,
      "outputs": [
        {
          "output_type": "execute_result",
          "data": {
            "text/plain": [
              "<matplotlib.axes._subplots.AxesSubplot at 0x7f60e6d78d68>"
            ]
          },
          "metadata": {
            "tags": []
          },
          "execution_count": 6
        },
        {
          "output_type": "display_data",
          "data": {
            "image/png": "[encoded data removed]",
            "text/plain": [
              "<Figure size 432x288 with 1 Axes>"
            ]
          },
          "metadata": {
            "tags": []
          }
        }
      ]
    },
    {
      "cell_type": "markdown",
      "metadata": {
        "id": "JkX6hOZdhZAh",
        "colab_type": "text"
      },
      "source": [
        "確認沒有為0的ROW \n",
        "故直接平均\n",
        "同時認定 交易標的數 即為 總件數"
      ]
    },
    {
      "cell_type": "code",
      "metadata": {
        "id": "-rSNQ9dlxKLr",
        "colab_type": "code",
        "outputId": "8c2ccb6a-4bf4-49cb-f968-b7b5307160ba",
        "colab": {
          "base_uri": "https://localhost:8080/",
          "height": 34
        }
      },
      "source": [
        "round(df_all['總價元'].mean())"
      ],
      "execution_count": 0,
      "outputs": [
        {
          "output_type": "execute_result",
          "data": {
            "text/plain": [
              "15264496"
            ]
          },
          "metadata": {
            "tags": []
          },
          "execution_count": 7
        }
      ]
    },
    {
      "cell_type": "code",
      "metadata": {
        "id": "RNmA9oMkS1SJ",
        "colab_type": "code",
        "colab": {}
      },
      "source": [
        "df_all['車位總價元'] = df_all['車位總價元'].astype(int)\n",
        "df_all['車位移轉總面積平方公尺'] = df_all['車位移轉總面積平方公尺'].astype(float)"
      ],
      "execution_count": 0,
      "outputs": []
    },
    {
      "cell_type": "code",
      "metadata": {
        "id": "4_JaVHdgVlY6",
        "colab_type": "code",
        "outputId": "c6120f6e-8aef-42b6-d035-b94f0b608f40",
        "colab": {
          "base_uri": "https://localhost:8080/",
          "height": 419
        }
      },
      "source": [
        "#條件 僅計算有車位總價 有車位移轉總面積平方公尺 且交易筆棟數車位不為0 的項目\n",
        "filter_park = (df_all['車位總價元'] != 0) & (df_all['車位移轉總面積平方公尺']!=0) & (df_all['車位']!=0)\n",
        "filter_cols = ['車位類別','車位移轉總面積平方公尺','車位','車位總價元','車位均價元']\n",
        "#將車位總價 除以 車位數 作為 車位均價元\n",
        "df_all['車位均價元'] =df_all['車位總價元'] / df_all['車位'] \n",
        "df_all[filter_park][filter_cols]"
      ],
      "execution_count": 0,
      "outputs": [
        {
          "output_type": "execute_result",
          "data": {
            "text/html": [
              "<div>\n",
              "<style scoped>\n",
              "    .dataframe tbody tr th:only-of-type {\n",
              "        vertical-align: middle;\n",
              "    }\n",
              "\n",
              "    .dataframe tbody tr th {\n",
              "        vertical-align: top;\n",
              "    }\n",
              "\n",
              "    .dataframe thead th {\n",
              "        text-align: right;\n",
              "    }\n",
              "</style>\n",
              "<table border=\"1\" class=\"dataframe\">\n",
              "  <thead>\n",
              "    <tr style=\"text-align: right;\">\n",
              "      <th></th>\n",
              "      <th>車位類別</th>\n",
              "      <th>車位移轉總面積平方公尺</th>\n",
              "      <th>車位</th>\n",
              "      <th>車位總價元</th>\n",
              "      <th>車位均價元</th>\n",
              "    </tr>\n",
              "  </thead>\n",
              "  <tbody>\n",
              "    <tr>\n",
              "      <th>5</th>\n",
              "      <td>坡道機械</td>\n",
              "      <td>13.93</td>\n",
              "      <td>1</td>\n",
              "      <td>2300000</td>\n",
              "      <td>2300000.0</td>\n",
              "    </tr>\n",
              "    <tr>\n",
              "      <th>10</th>\n",
              "      <td>坡道平面</td>\n",
              "      <td>31.40</td>\n",
              "      <td>1</td>\n",
              "      <td>2500000</td>\n",
              "      <td>2500000.0</td>\n",
              "    </tr>\n",
              "    <tr>\n",
              "      <th>11</th>\n",
              "      <td>坡道平面</td>\n",
              "      <td>44.66</td>\n",
              "      <td>1</td>\n",
              "      <td>2000000</td>\n",
              "      <td>2000000.0</td>\n",
              "    </tr>\n",
              "    <tr>\n",
              "      <th>14</th>\n",
              "      <td>坡道平面</td>\n",
              "      <td>34.71</td>\n",
              "      <td>1</td>\n",
              "      <td>2450000</td>\n",
              "      <td>2450000.0</td>\n",
              "    </tr>\n",
              "    <tr>\n",
              "      <th>18</th>\n",
              "      <td>坡道平面</td>\n",
              "      <td>39.35</td>\n",
              "      <td>1</td>\n",
              "      <td>2700000</td>\n",
              "      <td>2700000.0</td>\n",
              "    </tr>\n",
              "    <tr>\n",
              "      <th>...</th>\n",
              "      <td>...</td>\n",
              "      <td>...</td>\n",
              "      <td>...</td>\n",
              "      <td>...</td>\n",
              "      <td>...</td>\n",
              "    </tr>\n",
              "    <tr>\n",
              "      <th>5146</th>\n",
              "      <td>坡道平面</td>\n",
              "      <td>40.56</td>\n",
              "      <td>1</td>\n",
              "      <td>1350000</td>\n",
              "      <td>1350000.0</td>\n",
              "    </tr>\n",
              "    <tr>\n",
              "      <th>5147</th>\n",
              "      <td>坡道平面</td>\n",
              "      <td>40.56</td>\n",
              "      <td>1</td>\n",
              "      <td>1350000</td>\n",
              "      <td>1350000.0</td>\n",
              "    </tr>\n",
              "    <tr>\n",
              "      <th>5148</th>\n",
              "      <td>坡道平面</td>\n",
              "      <td>40.56</td>\n",
              "      <td>1</td>\n",
              "      <td>1100000</td>\n",
              "      <td>1100000.0</td>\n",
              "    </tr>\n",
              "    <tr>\n",
              "      <th>5149</th>\n",
              "      <td>坡道平面</td>\n",
              "      <td>40.56</td>\n",
              "      <td>1</td>\n",
              "      <td>1250000</td>\n",
              "      <td>1250000.0</td>\n",
              "    </tr>\n",
              "    <tr>\n",
              "      <th>5151</th>\n",
              "      <td>坡道平面</td>\n",
              "      <td>74.02</td>\n",
              "      <td>2</td>\n",
              "      <td>2600000</td>\n",
              "      <td>1300000.0</td>\n",
              "    </tr>\n",
              "  </tbody>\n",
              "</table>\n",
              "<p>1111 rows × 5 columns</p>\n",
              "</div>"
            ],
            "text/plain": [
              "      車位類別  車位移轉總面積平方公尺  車位    車位總價元      車位均價元\n",
              "5     坡道機械        13.93   1  2300000  2300000.0\n",
              "10    坡道平面        31.40   1  2500000  2500000.0\n",
              "11    坡道平面        44.66   1  2000000  2000000.0\n",
              "14    坡道平面        34.71   1  2450000  2450000.0\n",
              "18    坡道平面        39.35   1  2700000  2700000.0\n",
              "...    ...          ...  ..      ...        ...\n",
              "5146  坡道平面        40.56   1  1350000  1350000.0\n",
              "5147  坡道平面        40.56   1  1350000  1350000.0\n",
              "5148  坡道平面        40.56   1  1100000  1100000.0\n",
              "5149  坡道平面        40.56   1  1250000  1250000.0\n",
              "5151  坡道平面        74.02   2  2600000  1300000.0\n",
              "\n",
              "[1111 rows x 5 columns]"
            ]
          },
          "metadata": {
            "tags": []
          },
          "execution_count": 9
        }
      ]
    },
    {
      "cell_type": "code",
      "metadata": {
        "id": "DqtrT8xJcrG3",
        "colab_type": "code",
        "outputId": "3b22b312-5ec3-4ddf-cc52-7870251b6b0f",
        "colab": {
          "base_uri": "https://localhost:8080/",
          "height": 34
        }
      },
      "source": [
        "round(df_all[df_all['車位均價元'] != 0 ]['車位均價元'].mean())"
      ],
      "execution_count": 0,
      "outputs": [
        {
          "output_type": "execute_result",
          "data": {
            "text/plain": [
              "1448749"
            ]
          },
          "metadata": {
            "tags": []
          },
          "execution_count": 10
        }
      ]
    },
    {
      "cell_type": "code",
      "metadata": {
        "id": "mHpzTYJKUk_v",
        "colab_type": "code",
        "outputId": "edd34228-8a00-48b5-c81d-fc176d561389",
        "colab": {
          "base_uri": "https://localhost:8080/",
          "height": 390
        }
      },
      "source": [
        "#檢查一下實際分布與個人理解是否相近\n",
        "df_all.groupby(['鄉鎮市區']).agg({'車位均價元':'mean'}).round().sort_values('車位均價元',ascending=False).head(10)"
      ],
      "execution_count": 0,
      "outputs": [
        {
          "output_type": "execute_result",
          "data": {
            "text/html": [
              "<div>\n",
              "<style scoped>\n",
              "    .dataframe tbody tr th:only-of-type {\n",
              "        vertical-align: middle;\n",
              "    }\n",
              "\n",
              "    .dataframe tbody tr th {\n",
              "        vertical-align: top;\n",
              "    }\n",
              "\n",
              "    .dataframe thead th {\n",
              "        text-align: right;\n",
              "    }\n",
              "</style>\n",
              "<table border=\"1\" class=\"dataframe\">\n",
              "  <thead>\n",
              "    <tr style=\"text-align: right;\">\n",
              "      <th></th>\n",
              "      <th>車位均價元</th>\n",
              "    </tr>\n",
              "    <tr>\n",
              "      <th>鄉鎮市區</th>\n",
              "      <th></th>\n",
              "    </tr>\n",
              "  </thead>\n",
              "  <tbody>\n",
              "    <tr>\n",
              "      <th>松山區</th>\n",
              "      <td>2091250.0</td>\n",
              "    </tr>\n",
              "    <tr>\n",
              "      <th>中山區</th>\n",
              "      <td>1777512.0</td>\n",
              "    </tr>\n",
              "    <tr>\n",
              "      <th>中正區</th>\n",
              "      <td>1712500.0</td>\n",
              "    </tr>\n",
              "    <tr>\n",
              "      <th>新莊區</th>\n",
              "      <td>1699265.0</td>\n",
              "    </tr>\n",
              "    <tr>\n",
              "      <th>士林區</th>\n",
              "      <td>1678333.0</td>\n",
              "    </tr>\n",
              "    <tr>\n",
              "      <th>信義區</th>\n",
              "      <td>1536364.0</td>\n",
              "    </tr>\n",
              "    <tr>\n",
              "      <th>永和區</th>\n",
              "      <td>1505000.0</td>\n",
              "    </tr>\n",
              "    <tr>\n",
              "      <th>鶯歌區</th>\n",
              "      <td>1265217.0</td>\n",
              "    </tr>\n",
              "    <tr>\n",
              "      <th>龜山區</th>\n",
              "      <td>1256522.0</td>\n",
              "    </tr>\n",
              "    <tr>\n",
              "      <th>新屋區</th>\n",
              "      <td>1225000.0</td>\n",
              "    </tr>\n",
              "  </tbody>\n",
              "</table>\n",
              "</div>"
            ],
            "text/plain": [
              "          車位均價元\n",
              "鄉鎮市區           \n",
              "松山區   2091250.0\n",
              "中山區   1777512.0\n",
              "中正區   1712500.0\n",
              "新莊區   1699265.0\n",
              "士林區   1678333.0\n",
              "信義區   1536364.0\n",
              "永和區   1505000.0\n",
              "鶯歌區   1265217.0\n",
              "龜山區   1256522.0\n",
              "新屋區   1225000.0"
            ]
          },
          "metadata": {
            "tags": []
          },
          "execution_count": 11
        }
      ]
    },
    {
      "cell_type": "code",
      "metadata": {
        "id": "xTlK6f0mUrWl",
        "colab_type": "code",
        "outputId": "4edf2731-e408-4176-9961-2405b8e91dbc",
        "colab": {
          "base_uri": "https://localhost:8080/",
          "height": 80
        }
      },
      "source": [
        "trade = df_all['交易標的'].count()\n",
        "park = df_all['車位'].sum()\n",
        "avg_price = df_all['總價元'].mean()\n",
        "avg_park_price = df_all[df_all['車位均價元'] != 0 ]['車位均價元'].mean()\n",
        "\n",
        "ans = pd.DataFrame([[trade, park, round(avg_price), round(avg_park_price)]])\n",
        "ans.columns=['總件數', '總車位數', '平均總價元', '平均車位總價元']\n",
        "ans"
      ],
      "execution_count": 0,
      "outputs": [
        {
          "output_type": "execute_result",
          "data": {
            "text/html": [
              "<div>\n",
              "<style scoped>\n",
              "    .dataframe tbody tr th:only-of-type {\n",
              "        vertical-align: middle;\n",
              "    }\n",
              "\n",
              "    .dataframe tbody tr th {\n",
              "        vertical-align: top;\n",
              "    }\n",
              "\n",
              "    .dataframe thead th {\n",
              "        text-align: right;\n",
              "    }\n",
              "</style>\n",
              "<table border=\"1\" class=\"dataframe\">\n",
              "  <thead>\n",
              "    <tr style=\"text-align: right;\">\n",
              "      <th></th>\n",
              "      <th>總件數</th>\n",
              "      <th>總車位數</th>\n",
              "      <th>平均總價元</th>\n",
              "      <th>平均車位總價元</th>\n",
              "    </tr>\n",
              "  </thead>\n",
              "  <tbody>\n",
              "    <tr>\n",
              "      <th>0</th>\n",
              "      <td>5173</td>\n",
              "      <td>2485</td>\n",
              "      <td>15264496</td>\n",
              "      <td>1448749</td>\n",
              "    </tr>\n",
              "  </tbody>\n",
              "</table>\n",
              "</div>"
            ],
            "text/plain": [
              "    總件數  總車位數     平均總價元  平均車位總價元\n",
              "0  5173  2485  15264496  1448749"
            ]
          },
          "metadata": {
            "tags": []
          },
          "execution_count": 14
        }
      ]
    },
    {
      "cell_type": "code",
      "metadata": {
        "id": "Jzek_VWDcCfH",
        "colab_type": "code",
        "colab": {}
      },
      "source": [
        "ans.to_csv('filter_b.csv', encoding='utf-8', index=False)"
      ],
      "execution_count": 0,
      "outputs": []
    },
    {
      "cell_type": "code",
      "metadata": {
        "id": "OTXeTc41dqZ0",
        "colab_type": "code",
        "colab": {}
      },
      "source": [
        ""
      ],
      "execution_count": 0,
      "outputs": []
    }
  ]
}
