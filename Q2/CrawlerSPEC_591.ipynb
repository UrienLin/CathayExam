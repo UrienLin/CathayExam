{
  "nbformat": 4,
  "nbformat_minor": 0,
  "metadata": {
    "colab": {
      "name": "CrawlerSPEC_591.ipynb",
      "provenance": [],
      "authorship_tag": "ABX9TyPzQxvlU/dZiAJxw0zR0ATB",
      "include_colab_link": true
    },
    "kernelspec": {
      "name": "python3",
      "display_name": "Python 3"
    }
  },
  "cells": [
    {
      "cell_type": "markdown",
      "metadata": {
        "id": "view-in-github",
        "colab_type": "text"
      },
      "source": [
        "<a href=\"https://colab.research.google.com/github/UrienLin/CathayExam/blob/master/CrawlerSPEC_591.ipynb\" target=\"_parent\"><img src=\"https://colab.research.google.com/assets/colab-badge.svg\" alt=\"Open In Colab\"/></a>"
      ]
    },
    {
      "cell_type": "code",
      "metadata": {
        "id": "YhrktzwN-dl-",
        "colab_type": "code",
        "outputId": "867d3937-8276-4839-fc6d-2b5fbebe857d",
        "colab": {
          "base_uri": "https://localhost:8080/",
          "height": 52
        }
      },
      "source": [
        "import requests as req\n",
        "import pandas as pd\n",
        "from bs4 import BeautifulSoup as soup\n",
        "import time\n",
        "# install chromium, its driver, and selenium\n",
        "!apt -qq install chromium-chromedriver \n",
        "!pip --quiet install selenium\n",
        "# set options to be headless, ..\n",
        "from selenium import webdriver\n"
      ],
      "execution_count": 18,
      "outputs": [
        {
          "output_type": "stream",
          "text": [
            "chromium-chromedriver is already the newest version (80.0.3987.87-0ubuntu0.18.04.1).\n",
            "0 upgraded, 0 newly installed, 0 to remove and 25 not upgraded.\n"
          ],
          "name": "stdout"
        }
      ]
    },
    {
      "cell_type": "markdown",
      "metadata": {
        "id": "fUjqyOQ38ytm",
        "colab_type": "text"
      },
      "source": [
        "取得列表內容[ID,TITLE,URL]"
      ]
    },
    {
      "cell_type": "code",
      "metadata": {
        "id": "AWAyDRGPdGJf",
        "colab_type": "code",
        "colab": {}
      },
      "source": [
        "def extract_element(element):\n",
        "  img = element.find_element_by_css_selector('img')\n",
        "  href = element.find_element_by_css_selector('h3 a')\n",
        "  \n",
        "  ID = img.get_attribute('data-bind')\n",
        "  title = img.get_attribute('title')\n",
        "  url = href.get_attribute('href')\n",
        "  return [ID,title,url]\n"
      ],
      "execution_count": 0,
      "outputs": []
    },
    {
      "cell_type": "markdown",
      "metadata": {
        "id": "iP9N6_4a59Gi",
        "colab_type": "text"
      },
      "source": [
        "由於網站爬取時需驗證COOKIES，雖然 NEW SESSION拿的到，XSRF-TOKEN無法從HTTP的方式取得\n",
        "故REQUESTS無法模擬，只能用SELEIUM的方式取得\n",
        "\n"
      ]
    },
    {
      "cell_type": "code",
      "metadata": {
        "id": "BkR5YArTdD7m",
        "colab_type": "code",
        "colab": {}
      },
      "source": [
        "url = 'https://rent.591.com.tw/?kind=0&region=1&order=posttime&orderType=desc'\n",
        "#for code in regions:\n",
        "options = webdriver.ChromeOptions()\n",
        "options.add_argument('--headless')\n",
        "options.add_argument('--no-sandbox')\n",
        "options.add_argument('--disable-dev-shm-usage')\n",
        "# open it, go to a website, and get results\n",
        "driver = webdriver.Chrome('chromedriver',options=options)\n",
        "driver.get(url)\n"
      ],
      "execution_count": 0,
      "outputs": []
    },
    {
      "cell_type": "markdown",
      "metadata": {
        "id": "NixJoppb8_Qa",
        "colab_type": "text"
      },
      "source": [
        "換頁相關 btn\n"
      ]
    },
    {
      "cell_type": "markdown",
      "metadata": {
        "id": "ybd9Kh1y90a9",
        "colab_type": "text"
      },
      "source": [
        "# 翻頁功能\n",
        "1.同 region 不同頁的切換，\n",
        "如果“下一頁”按鈕有連結，就按該按鈕換頁，\n",
        "如果該按鈕沒有連結，表示到了最後一頁。\n",
        "\n",
        "2.由於直接改網址的 region 無法成功切換地區，\n",
        "經測試須從選單點選 ‘新北市’ 後，\n",
        "再對瀏覽器進行重新整理，方能成功切換地區。"
      ]
    },
    {
      "cell_type": "code",
      "metadata": {
        "id": "40rDzdztliWU",
        "colab_type": "code",
        "outputId": "cb85f413-d083-482b-9165-af6dcd59af22",
        "colab": {
          "base_uri": "https://localhost:8080/",
          "height": 156
        }
      },
      "source": [
        "#目前地區\n",
        "current_url = driver.current_url\n",
        "print('Current Url : {}'.format(current_url))\n",
        "#目前頁碼\n",
        "current_page = driver.find_element_by_css_selector('div.pageBar span.pageCurrent').get_attribute('innerText')\n",
        "print('Current Page : {}'.format(current_page))\n",
        "#下一頁按鈕\n",
        "btn_next_page = driver.find_element_by_css_selector('div.pageBar a.pageNext')\n",
        "\n",
        "#最後一頁的按鈕\n",
        "btn_page_bar = driver.find_elements_by_css_selector('div.pageBar a.pageNum-form')\n",
        "print('Page Bar Options : ',[x.get_attribute('innerText')for x in btn_page_bar])\n",
        "btn_last_page = btn_page_bar[0] #firstPage = 0 , lastPage=-1\n",
        "\n",
        "#等候顯示，按下按鈕\n",
        "driver.execute_script(\"arguments[0].click();\", btn_last_page)\n",
        "print('\\n ***** 跳至指定頁面, Wait for 5s... ***** \\n')\n",
        "time.sleep(5)\n",
        "\n",
        "\n",
        "#沒有下一頁時，「最後一頁按鈕」 沒有href \n",
        "bool_next_page = driver.find_element_by_css_selector('div.pageBar a.pageNext').get_attribute('href')\n",
        "\n",
        "print('got next page') if bool_next_page  else print('final page')\n",
        "\n",
        "current_page = driver.find_element_by_css_selector('div.pageBar span.pageCurrent').get_attribute('innerText')\n",
        "print('Current Page : {}'.format(current_page))\n",
        "\n"
      ],
      "execution_count": 46,
      "outputs": [
        {
          "output_type": "stream",
          "text": [
            "Current Url : https://rent.591.com.tw/?kind=0&order=posttime&orderType=desc&region=3\n",
            "Current Page : 2\n",
            "Page Bar Options :  ['1', '3', '4', '5', '6', '7', '317']\n",
            "\n",
            " ***** 跳至指定頁面, Wait for 5s... ***** \n",
            "\n",
            "got next page\n",
            "Current Page : 1\n"
          ],
          "name": "stdout"
        }
      ]
    },
    {
      "cell_type": "code",
      "metadata": {
        "id": "mPgK8RXadGEM",
        "colab_type": "code",
        "outputId": "0ceed677-321c-4e4f-cd4c-886350d22ef0",
        "colab": {
          "base_uri": "https://localhost:8080/",
          "height": 52
        }
      },
      "source": [
        "#先列出瀏覽器目前網址\n",
        "current_page = driver.current_url\n",
        "print(current_page)\n",
        "#按下 位置： 台北市 的按鈕 才會載入其他縣市列表\n",
        "\n",
        "region_switch = driver.find_element_by_css_selector('span.search-location-span')\n",
        "driver.execute_script(\"arguments[0].click();\", region_switch)\n",
        "\n",
        "#按下新北市之後 讓 rsList 讀取\n",
        "new_taipei_city = driver.find_element_by_css_selector(\"ul li.city-li a[data-id='3']\")\n",
        "driver.execute_script(\"arguments[0].click();\", new_taipei_city)\n",
        "\n",
        "#對原本頁面重新整理\n",
        "driver.refresh()\n",
        "\n",
        "#檢查是否切換至新北市\n",
        "current_page = driver.current_url\n",
        "print(current_page)\n"
      ],
      "execution_count": 12,
      "outputs": [
        {
          "output_type": "stream",
          "text": [
            "https://rent.591.com.tw/?kind=0&order=posttime&orderType=desc&region=1\n",
            "https://rent.591.com.tw/?kind=0&order=posttime&orderType=desc&region=3\n"
          ],
          "name": "stdout"
        }
      ]
    },
    {
      "cell_type": "code",
      "metadata": {
        "id": "O_nLCuiV-hBp",
        "colab_type": "code",
        "colab": {}
      },
      "source": [
        "url='https://m.591.com.tw/v2/rent?regionid=1'\n",
        "headers= {'user-agent' :'Mozilla/5.0 (iPhone; CPU iPhone OS 10_3_1 like Mac OS X) AppleWebKit/603.1.30 (KHTML, like Gecko) Version/10.0 Mobile/14E304 Safari/602.1'}\n",
        "client = req.session()\n",
        "\n",
        "resp = client.get(url, headers=headers)\n",
        "#resp2 = req.get('https://rent.591.com.tw/home/search/rsList?is_new_list=1&type=1&kind=0&searchtype=1&region=2&firstRow=60&totalRows=9432',\n",
        "#                headers={'referer':'https://rent.591.com.tw/?kind=0&region=2'},\n",
        "#                )"
      ],
      "execution_count": 0,
      "outputs": []
    },
    {
      "cell_type": "code",
      "metadata": {
        "id": "r0xSp4SR_9SV",
        "colab_type": "code",
        "colab": {}
      },
      "source": [
        "def extract_page_content()\n",
        "  obj_extract = \\\n",
        "  [[x.select('img')[0]['data-bind'],\n",
        "    x.select('h3 a')[0]['href'] , \n",
        "    x.select('img')[0]['title'],]\n",
        "  for x in obj_list]\n",
        "  _df = pd.DataFrame(obj_extract)\n",
        "  _df.columns = ['id', 'url', 'title']\n",
        "  _df.url = _df.url.apply(lambda x: 'http:' + x.replace('\\\\','/'))\n",
        "\n",
        "  return _df"
      ],
      "execution_count": 0,
      "outputs": []
    },
    {
      "cell_type": "code",
      "metadata": {
        "id": "qk-LaKfFEY6S",
        "colab_type": "code",
        "outputId": "40c2d72f-9c70-4534-83e8-cbacb0c58943",
        "colab": {
          "base_uri": "https://localhost:8080/",
          "height": 544
        }
      },
      "source": [
        "_df = pd.DataFrame(obj_extract)\n",
        "_df.columns = ['id', 'url', 'title']\n",
        "_df.url.apply(lambda x: 'http:' + x.replace('\\\\','/'))"
      ],
      "execution_count": 0,
      "outputs": [
        {
          "output_type": "execute_result",
          "data": {
            "text/plain": [
              "0     http://rent.591.com.tw/rent-detail-4600321.html\n",
              "1     http://rent.591.com.tw/rent-detail-8830565.html\n",
              "2     http://rent.591.com.tw/rent-detail-8851662.html\n",
              "3     http://rent.591.com.tw/rent-detail-8869640.html\n",
              "4     http://rent.591.com.tw/rent-detail-8887309.html\n",
              "5     http://rent.591.com.tw/rent-detail-8900775.html\n",
              "6     http://rent.591.com.tw/rent-detail-8901879.html\n",
              "7     http://rent.591.com.tw/rent-detail-8907934.html\n",
              "8     http://rent.591.com.tw/rent-detail-8907939.html\n",
              "9     http://rent.591.com.tw/rent-detail-8915509.html\n",
              "10    http://rent.591.com.tw/rent-detail-8941113.html\n",
              "11    http://rent.591.com.tw/rent-detail-8894515.html\n",
              "12    http://rent.591.com.tw/rent-detail-8910279.html\n",
              "13    http://rent.591.com.tw/rent-detail-2897519.html\n",
              "14    http://rent.591.com.tw/rent-detail-8777253.html\n",
              "15    http://rent.591.com.tw/rent-detail-8777256.html\n",
              "16    http://rent.591.com.tw/rent-detail-8830750.html\n",
              "17    http://rent.591.com.tw/rent-detail-8836348.html\n",
              "18    http://rent.591.com.tw/rent-detail-8838049.html\n",
              "19    http://rent.591.com.tw/rent-detail-8844174.html\n",
              "20    http://rent.591.com.tw/rent-detail-8846022.html\n",
              "21    http://rent.591.com.tw/rent-detail-8855062.html\n",
              "22    http://rent.591.com.tw/rent-detail-8866457.html\n",
              "23    http://rent.591.com.tw/rent-detail-8870738.html\n",
              "24    http://rent.591.com.tw/rent-detail-8875643.html\n",
              "25    http://rent.591.com.tw/rent-detail-8878156.html\n",
              "26    http://rent.591.com.tw/rent-detail-8896875.html\n",
              "27    http://rent.591.com.tw/rent-detail-8917328.html\n",
              "28    http://rent.591.com.tw/rent-detail-8923398.html\n",
              "29    http://rent.591.com.tw/rent-detail-8926164.html\n",
              "Name: url, dtype: object"
            ]
          },
          "metadata": {
            "tags": []
          },
          "execution_count": 42
        }
      ]
    }
  ]
}
